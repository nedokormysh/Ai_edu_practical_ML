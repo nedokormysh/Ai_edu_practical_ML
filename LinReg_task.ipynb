{
  "cells": [
    {
      "cell_type": "markdown",
      "metadata": {
        "id": "view-in-github",
        "colab_type": "text"
      },
      "source": [
        "<a href=\"https://colab.research.google.com/github/nedokormysh/Stepik_Ai_edu_practical_ML/blob/week_3_Linear_mdls_reg/LinReg_task.ipynb\" target=\"_parent\"><img src=\"https://colab.research.google.com/assets/colab-badge.svg\" alt=\"Open In Colab\"/></a>"
      ]
    },
    {
      "cell_type": "markdown",
      "metadata": {
        "id": "S-Nk7D6JSrS4"
      },
      "source": [
        "# Линейная регрессия. Работа с признаками"
      ]
    },
    {
      "cell_type": "markdown",
      "source": [
        "## Описание задачи и загрузка данных"
      ],
      "metadata": {
        "id": "8XVxYkdydhAi"
      }
    },
    {
      "cell_type": "code",
      "execution_count": 2,
      "metadata": {
        "id": "30SvusWoSrS9"
      },
      "outputs": [],
      "source": [
        "import numpy as np\n",
        "import pandas as pd\n",
        "import matplotlib.pyplot as plt"
      ]
    },
    {
      "cell_type": "markdown",
      "metadata": {
        "id": "CyFVaQsQSrS-"
      },
      "source": [
        "В этом задании мы рассмотрим различные аспекты построения линейной модели. Мы будем работать с одним из классических наборов данных в статистике, содержащим информацию о бриллиантах. Описание можно посмотреть [здесь](https://www.kaggle.com/shivam2503/diamonds)."
      ]
    },
    {
      "cell_type": "code",
      "execution_count": 3,
      "metadata": {
        "id": "-HIO2yliSrS-",
        "outputId": "6f6fdf84-be6d-4405-cc60-b768f13127c4",
        "colab": {
          "base_uri": "https://localhost:8080/",
          "height": 206
        }
      },
      "outputs": [
        {
          "output_type": "execute_result",
          "data": {
            "text/plain": [
              "   Unnamed: 0  carat      cut color clarity  depth  table  price     x     y  \\\n",
              "0           1   0.23    Ideal     E     SI2   61.5   55.0    326  3.95  3.98   \n",
              "1           2   0.21  Premium     E     SI1   59.8   61.0    326  3.89  3.84   \n",
              "2           3   0.23     Good     E     VS1   56.9   65.0    327  4.05  4.07   \n",
              "3           4   0.29  Premium     I     VS2   62.4   58.0    334  4.20  4.23   \n",
              "4           5   0.31     Good     J     SI2   63.3   58.0    335  4.34  4.35   \n",
              "\n",
              "      z  \n",
              "0  2.43  \n",
              "1  2.31  \n",
              "2  2.31  \n",
              "3  2.63  \n",
              "4  2.75  "
            ],
            "text/html": [
              "\n",
              "  <div id=\"df-365d5608-de49-4aab-881b-e86771b43c02\" class=\"colab-df-container\">\n",
              "    <div>\n",
              "<style scoped>\n",
              "    .dataframe tbody tr th:only-of-type {\n",
              "        vertical-align: middle;\n",
              "    }\n",
              "\n",
              "    .dataframe tbody tr th {\n",
              "        vertical-align: top;\n",
              "    }\n",
              "\n",
              "    .dataframe thead th {\n",
              "        text-align: right;\n",
              "    }\n",
              "</style>\n",
              "<table border=\"1\" class=\"dataframe\">\n",
              "  <thead>\n",
              "    <tr style=\"text-align: right;\">\n",
              "      <th></th>\n",
              "      <th>Unnamed: 0</th>\n",
              "      <th>carat</th>\n",
              "      <th>cut</th>\n",
              "      <th>color</th>\n",
              "      <th>clarity</th>\n",
              "      <th>depth</th>\n",
              "      <th>table</th>\n",
              "      <th>price</th>\n",
              "      <th>x</th>\n",
              "      <th>y</th>\n",
              "      <th>z</th>\n",
              "    </tr>\n",
              "  </thead>\n",
              "  <tbody>\n",
              "    <tr>\n",
              "      <th>0</th>\n",
              "      <td>1</td>\n",
              "      <td>0.23</td>\n",
              "      <td>Ideal</td>\n",
              "      <td>E</td>\n",
              "      <td>SI2</td>\n",
              "      <td>61.5</td>\n",
              "      <td>55.0</td>\n",
              "      <td>326</td>\n",
              "      <td>3.95</td>\n",
              "      <td>3.98</td>\n",
              "      <td>2.43</td>\n",
              "    </tr>\n",
              "    <tr>\n",
              "      <th>1</th>\n",
              "      <td>2</td>\n",
              "      <td>0.21</td>\n",
              "      <td>Premium</td>\n",
              "      <td>E</td>\n",
              "      <td>SI1</td>\n",
              "      <td>59.8</td>\n",
              "      <td>61.0</td>\n",
              "      <td>326</td>\n",
              "      <td>3.89</td>\n",
              "      <td>3.84</td>\n",
              "      <td>2.31</td>\n",
              "    </tr>\n",
              "    <tr>\n",
              "      <th>2</th>\n",
              "      <td>3</td>\n",
              "      <td>0.23</td>\n",
              "      <td>Good</td>\n",
              "      <td>E</td>\n",
              "      <td>VS1</td>\n",
              "      <td>56.9</td>\n",
              "      <td>65.0</td>\n",
              "      <td>327</td>\n",
              "      <td>4.05</td>\n",
              "      <td>4.07</td>\n",
              "      <td>2.31</td>\n",
              "    </tr>\n",
              "    <tr>\n",
              "      <th>3</th>\n",
              "      <td>4</td>\n",
              "      <td>0.29</td>\n",
              "      <td>Premium</td>\n",
              "      <td>I</td>\n",
              "      <td>VS2</td>\n",
              "      <td>62.4</td>\n",
              "      <td>58.0</td>\n",
              "      <td>334</td>\n",
              "      <td>4.20</td>\n",
              "      <td>4.23</td>\n",
              "      <td>2.63</td>\n",
              "    </tr>\n",
              "    <tr>\n",
              "      <th>4</th>\n",
              "      <td>5</td>\n",
              "      <td>0.31</td>\n",
              "      <td>Good</td>\n",
              "      <td>J</td>\n",
              "      <td>SI2</td>\n",
              "      <td>63.3</td>\n",
              "      <td>58.0</td>\n",
              "      <td>335</td>\n",
              "      <td>4.34</td>\n",
              "      <td>4.35</td>\n",
              "      <td>2.75</td>\n",
              "    </tr>\n",
              "  </tbody>\n",
              "</table>\n",
              "</div>\n",
              "    <div class=\"colab-df-buttons\">\n",
              "\n",
              "  <div class=\"colab-df-container\">\n",
              "    <button class=\"colab-df-convert\" onclick=\"convertToInteractive('df-365d5608-de49-4aab-881b-e86771b43c02')\"\n",
              "            title=\"Convert this dataframe to an interactive table.\"\n",
              "            style=\"display:none;\">\n",
              "\n",
              "  <svg xmlns=\"http://www.w3.org/2000/svg\" height=\"24px\" viewBox=\"0 -960 960 960\">\n",
              "    <path d=\"M120-120v-720h720v720H120Zm60-500h600v-160H180v160Zm220 220h160v-160H400v160Zm0 220h160v-160H400v160ZM180-400h160v-160H180v160Zm440 0h160v-160H620v160ZM180-180h160v-160H180v160Zm440 0h160v-160H620v160Z\"/>\n",
              "  </svg>\n",
              "    </button>\n",
              "\n",
              "  <style>\n",
              "    .colab-df-container {\n",
              "      display:flex;\n",
              "      gap: 12px;\n",
              "    }\n",
              "\n",
              "    .colab-df-convert {\n",
              "      background-color: #E8F0FE;\n",
              "      border: none;\n",
              "      border-radius: 50%;\n",
              "      cursor: pointer;\n",
              "      display: none;\n",
              "      fill: #1967D2;\n",
              "      height: 32px;\n",
              "      padding: 0 0 0 0;\n",
              "      width: 32px;\n",
              "    }\n",
              "\n",
              "    .colab-df-convert:hover {\n",
              "      background-color: #E2EBFA;\n",
              "      box-shadow: 0px 1px 2px rgba(60, 64, 67, 0.3), 0px 1px 3px 1px rgba(60, 64, 67, 0.15);\n",
              "      fill: #174EA6;\n",
              "    }\n",
              "\n",
              "    .colab-df-buttons div {\n",
              "      margin-bottom: 4px;\n",
              "    }\n",
              "\n",
              "    [theme=dark] .colab-df-convert {\n",
              "      background-color: #3B4455;\n",
              "      fill: #D2E3FC;\n",
              "    }\n",
              "\n",
              "    [theme=dark] .colab-df-convert:hover {\n",
              "      background-color: #434B5C;\n",
              "      box-shadow: 0px 1px 3px 1px rgba(0, 0, 0, 0.15);\n",
              "      filter: drop-shadow(0px 1px 2px rgba(0, 0, 0, 0.3));\n",
              "      fill: #FFFFFF;\n",
              "    }\n",
              "  </style>\n",
              "\n",
              "    <script>\n",
              "      const buttonEl =\n",
              "        document.querySelector('#df-365d5608-de49-4aab-881b-e86771b43c02 button.colab-df-convert');\n",
              "      buttonEl.style.display =\n",
              "        google.colab.kernel.accessAllowed ? 'block' : 'none';\n",
              "\n",
              "      async function convertToInteractive(key) {\n",
              "        const element = document.querySelector('#df-365d5608-de49-4aab-881b-e86771b43c02');\n",
              "        const dataTable =\n",
              "          await google.colab.kernel.invokeFunction('convertToInteractive',\n",
              "                                                    [key], {});\n",
              "        if (!dataTable) return;\n",
              "\n",
              "        const docLinkHtml = 'Like what you see? Visit the ' +\n",
              "          '<a target=\"_blank\" href=https://colab.research.google.com/notebooks/data_table.ipynb>data table notebook</a>'\n",
              "          + ' to learn more about interactive tables.';\n",
              "        element.innerHTML = '';\n",
              "        dataTable['output_type'] = 'display_data';\n",
              "        await google.colab.output.renderOutput(dataTable, element);\n",
              "        const docLink = document.createElement('div');\n",
              "        docLink.innerHTML = docLinkHtml;\n",
              "        element.appendChild(docLink);\n",
              "      }\n",
              "    </script>\n",
              "  </div>\n",
              "\n",
              "\n",
              "<div id=\"df-9b0830aa-2bfb-45a1-9a4c-799786621e28\">\n",
              "  <button class=\"colab-df-quickchart\" onclick=\"quickchart('df-9b0830aa-2bfb-45a1-9a4c-799786621e28')\"\n",
              "            title=\"Suggest charts\"\n",
              "            style=\"display:none;\">\n",
              "\n",
              "<svg xmlns=\"http://www.w3.org/2000/svg\" height=\"24px\"viewBox=\"0 0 24 24\"\n",
              "     width=\"24px\">\n",
              "    <g>\n",
              "        <path d=\"M19 3H5c-1.1 0-2 .9-2 2v14c0 1.1.9 2 2 2h14c1.1 0 2-.9 2-2V5c0-1.1-.9-2-2-2zM9 17H7v-7h2v7zm4 0h-2V7h2v10zm4 0h-2v-4h2v4z\"/>\n",
              "    </g>\n",
              "</svg>\n",
              "  </button>\n",
              "\n",
              "<style>\n",
              "  .colab-df-quickchart {\n",
              "      --bg-color: #E8F0FE;\n",
              "      --fill-color: #1967D2;\n",
              "      --hover-bg-color: #E2EBFA;\n",
              "      --hover-fill-color: #174EA6;\n",
              "      --disabled-fill-color: #AAA;\n",
              "      --disabled-bg-color: #DDD;\n",
              "  }\n",
              "\n",
              "  [theme=dark] .colab-df-quickchart {\n",
              "      --bg-color: #3B4455;\n",
              "      --fill-color: #D2E3FC;\n",
              "      --hover-bg-color: #434B5C;\n",
              "      --hover-fill-color: #FFFFFF;\n",
              "      --disabled-bg-color: #3B4455;\n",
              "      --disabled-fill-color: #666;\n",
              "  }\n",
              "\n",
              "  .colab-df-quickchart {\n",
              "    background-color: var(--bg-color);\n",
              "    border: none;\n",
              "    border-radius: 50%;\n",
              "    cursor: pointer;\n",
              "    display: none;\n",
              "    fill: var(--fill-color);\n",
              "    height: 32px;\n",
              "    padding: 0;\n",
              "    width: 32px;\n",
              "  }\n",
              "\n",
              "  .colab-df-quickchart:hover {\n",
              "    background-color: var(--hover-bg-color);\n",
              "    box-shadow: 0 1px 2px rgba(60, 64, 67, 0.3), 0 1px 3px 1px rgba(60, 64, 67, 0.15);\n",
              "    fill: var(--button-hover-fill-color);\n",
              "  }\n",
              "\n",
              "  .colab-df-quickchart-complete:disabled,\n",
              "  .colab-df-quickchart-complete:disabled:hover {\n",
              "    background-color: var(--disabled-bg-color);\n",
              "    fill: var(--disabled-fill-color);\n",
              "    box-shadow: none;\n",
              "  }\n",
              "\n",
              "  .colab-df-spinner {\n",
              "    border: 2px solid var(--fill-color);\n",
              "    border-color: transparent;\n",
              "    border-bottom-color: var(--fill-color);\n",
              "    animation:\n",
              "      spin 1s steps(1) infinite;\n",
              "  }\n",
              "\n",
              "  @keyframes spin {\n",
              "    0% {\n",
              "      border-color: transparent;\n",
              "      border-bottom-color: var(--fill-color);\n",
              "      border-left-color: var(--fill-color);\n",
              "    }\n",
              "    20% {\n",
              "      border-color: transparent;\n",
              "      border-left-color: var(--fill-color);\n",
              "      border-top-color: var(--fill-color);\n",
              "    }\n",
              "    30% {\n",
              "      border-color: transparent;\n",
              "      border-left-color: var(--fill-color);\n",
              "      border-top-color: var(--fill-color);\n",
              "      border-right-color: var(--fill-color);\n",
              "    }\n",
              "    40% {\n",
              "      border-color: transparent;\n",
              "      border-right-color: var(--fill-color);\n",
              "      border-top-color: var(--fill-color);\n",
              "    }\n",
              "    60% {\n",
              "      border-color: transparent;\n",
              "      border-right-color: var(--fill-color);\n",
              "    }\n",
              "    80% {\n",
              "      border-color: transparent;\n",
              "      border-right-color: var(--fill-color);\n",
              "      border-bottom-color: var(--fill-color);\n",
              "    }\n",
              "    90% {\n",
              "      border-color: transparent;\n",
              "      border-bottom-color: var(--fill-color);\n",
              "    }\n",
              "  }\n",
              "</style>\n",
              "\n",
              "  <script>\n",
              "    async function quickchart(key) {\n",
              "      const quickchartButtonEl =\n",
              "        document.querySelector('#' + key + ' button');\n",
              "      quickchartButtonEl.disabled = true;  // To prevent multiple clicks.\n",
              "      quickchartButtonEl.classList.add('colab-df-spinner');\n",
              "      try {\n",
              "        const charts = await google.colab.kernel.invokeFunction(\n",
              "            'suggestCharts', [key], {});\n",
              "      } catch (error) {\n",
              "        console.error('Error during call to suggestCharts:', error);\n",
              "      }\n",
              "      quickchartButtonEl.classList.remove('colab-df-spinner');\n",
              "      quickchartButtonEl.classList.add('colab-df-quickchart-complete');\n",
              "    }\n",
              "    (() => {\n",
              "      let quickchartButtonEl =\n",
              "        document.querySelector('#df-9b0830aa-2bfb-45a1-9a4c-799786621e28 button');\n",
              "      quickchartButtonEl.style.display =\n",
              "        google.colab.kernel.accessAllowed ? 'block' : 'none';\n",
              "    })();\n",
              "  </script>\n",
              "</div>\n",
              "    </div>\n",
              "  </div>\n"
            ]
          },
          "metadata": {},
          "execution_count": 3
        }
      ],
      "source": [
        "data = pd.read_csv('https://raw.githubusercontent.com/evgpat/edu_stepik_practical_ml/main/datasets/diamonds.csv')\n",
        "data.head(5)"
      ]
    },
    {
      "cell_type": "markdown",
      "source": [
        "Посмотрим на типы столбцов."
      ],
      "metadata": {
        "id": "rUL_m2KVK39v"
      }
    },
    {
      "cell_type": "code",
      "execution_count": 4,
      "metadata": {
        "id": "xcJlwyrgUUE3",
        "outputId": "9dc654de-1056-4304-9d6d-78524a2eed57",
        "colab": {
          "base_uri": "https://localhost:8080/"
        }
      },
      "outputs": [
        {
          "output_type": "execute_result",
          "data": {
            "text/plain": [
              "Unnamed: 0      int64\n",
              "carat         float64\n",
              "cut            object\n",
              "color          object\n",
              "clarity        object\n",
              "depth         float64\n",
              "table         float64\n",
              "price           int64\n",
              "x             float64\n",
              "y             float64\n",
              "z             float64\n",
              "dtype: object"
            ]
          },
          "metadata": {},
          "execution_count": 4
        }
      ],
      "source": [
        "data.dtypes"
      ]
    },
    {
      "cell_type": "markdown",
      "metadata": {
        "id": "Ro9c3tbbSrS-"
      },
      "source": [
        "Мы будем решать задачу предсказания цены бриллианта `price` в зависимости от его характеристик."
      ]
    },
    {
      "cell_type": "markdown",
      "metadata": {
        "id": "hdVZhwpBSrS_"
      },
      "source": [
        "## Построение модели"
      ]
    },
    {
      "cell_type": "markdown",
      "metadata": {
        "id": "aa1KZtU-SrS_"
      },
      "source": [
        "### Задание 1"
      ]
    },
    {
      "cell_type": "markdown",
      "source": [
        "Есть ли в наборе данных пропущенные значения? Если да, удалите их.\n",
        "\n",
        "Также выведите на экран число пропусков в каждом столбце."
      ],
      "metadata": {
        "id": "rI5PnSLtdp3B"
      }
    },
    {
      "cell_type": "code",
      "execution_count": 6,
      "metadata": {
        "id": "ebV5X3S9SrS_",
        "outputId": "aaa51403-2b95-4e21-c301-b51acc5f5239",
        "colab": {
          "base_uri": "https://localhost:8080/"
        }
      },
      "outputs": [
        {
          "output_type": "execute_result",
          "data": {
            "text/plain": [
              "Unnamed: 0    0\n",
              "carat         0\n",
              "cut           0\n",
              "color         0\n",
              "clarity       0\n",
              "depth         0\n",
              "table         0\n",
              "price         0\n",
              "x             0\n",
              "y             0\n",
              "z             0\n",
              "dtype: int64"
            ]
          },
          "metadata": {},
          "execution_count": 6
        }
      ],
      "source": [
        "data.isnull().sum()"
      ]
    },
    {
      "cell_type": "markdown",
      "metadata": {
        "id": "O1gMd6T1SrS_"
      },
      "source": [
        "### Задача 2"
      ]
    },
    {
      "cell_type": "markdown",
      "source": [
        "Есть ли в наборе данных бессмысленные столбцы (признаки, не несущие дополнительной информации)?  \n",
        "Если да, то удалите их."
      ],
      "metadata": {
        "id": "0Y9xswurduRh"
      }
    },
    {
      "cell_type": "code",
      "execution_count": 9,
      "metadata": {
        "id": "7DX20kQiSrTA"
      },
      "outputs": [],
      "source": [
        "data.drop('Unnamed: 0', axis=1, inplace=True)"
      ]
    },
    {
      "cell_type": "markdown",
      "metadata": {
        "id": "zo8C8NYiSrTA"
      },
      "source": [
        "### Задание 3"
      ]
    },
    {
      "cell_type": "markdown",
      "source": [
        "Линейная регрессия основана на предположении о линейной связи между признаками и целевой переменной, а потому перед выбором переменных для включения в модель имеет смысл проверить, насколько эта связь выполняется. Для следующих пунктов нам также потребуются корреляции между признаками.  \n",
        "Выведите матрицу корреляций между всеми вещественными признаками и целевой переменной.\n",
        "\n",
        "Какой вещественный признак коррелирует с целевой переменной больше всего?"
      ],
      "metadata": {
        "id": "-zTj1CK4dzw2"
      }
    },
    {
      "cell_type": "code",
      "execution_count": 10,
      "metadata": {
        "id": "wVq4XjF0SrTA",
        "outputId": "ce3cec77-5b51-4d39-86a9-cf794abf2adf",
        "colab": {
          "base_uri": "https://localhost:8080/",
          "height": 324
        }
      },
      "outputs": [
        {
          "output_type": "stream",
          "name": "stderr",
          "text": [
            "<ipython-input-10-c44ded798807>:1: FutureWarning: The default value of numeric_only in DataFrame.corr is deprecated. In a future version, it will default to False. Select only valid columns or specify the value of numeric_only to silence this warning.\n",
            "  data.corr()\n"
          ]
        },
        {
          "output_type": "execute_result",
          "data": {
            "text/plain": [
              "          carat     depth     table     price         x         y         z\n",
              "carat  1.000000  0.028224  0.181618  0.921591  0.975094  0.951722  0.953387\n",
              "depth  0.028224  1.000000 -0.295779 -0.010647 -0.025289 -0.029341  0.094924\n",
              "table  0.181618 -0.295779  1.000000  0.127134  0.195344  0.183760  0.150929\n",
              "price  0.921591 -0.010647  0.127134  1.000000  0.884435  0.865421  0.861249\n",
              "x      0.975094 -0.025289  0.195344  0.884435  1.000000  0.974701  0.970772\n",
              "y      0.951722 -0.029341  0.183760  0.865421  0.974701  1.000000  0.952006\n",
              "z      0.953387  0.094924  0.150929  0.861249  0.970772  0.952006  1.000000"
            ],
            "text/html": [
              "\n",
              "  <div id=\"df-a2b99950-23e2-4abd-b671-c3cbd3ed733b\" class=\"colab-df-container\">\n",
              "    <div>\n",
              "<style scoped>\n",
              "    .dataframe tbody tr th:only-of-type {\n",
              "        vertical-align: middle;\n",
              "    }\n",
              "\n",
              "    .dataframe tbody tr th {\n",
              "        vertical-align: top;\n",
              "    }\n",
              "\n",
              "    .dataframe thead th {\n",
              "        text-align: right;\n",
              "    }\n",
              "</style>\n",
              "<table border=\"1\" class=\"dataframe\">\n",
              "  <thead>\n",
              "    <tr style=\"text-align: right;\">\n",
              "      <th></th>\n",
              "      <th>carat</th>\n",
              "      <th>depth</th>\n",
              "      <th>table</th>\n",
              "      <th>price</th>\n",
              "      <th>x</th>\n",
              "      <th>y</th>\n",
              "      <th>z</th>\n",
              "    </tr>\n",
              "  </thead>\n",
              "  <tbody>\n",
              "    <tr>\n",
              "      <th>carat</th>\n",
              "      <td>1.000000</td>\n",
              "      <td>0.028224</td>\n",
              "      <td>0.181618</td>\n",
              "      <td>0.921591</td>\n",
              "      <td>0.975094</td>\n",
              "      <td>0.951722</td>\n",
              "      <td>0.953387</td>\n",
              "    </tr>\n",
              "    <tr>\n",
              "      <th>depth</th>\n",
              "      <td>0.028224</td>\n",
              "      <td>1.000000</td>\n",
              "      <td>-0.295779</td>\n",
              "      <td>-0.010647</td>\n",
              "      <td>-0.025289</td>\n",
              "      <td>-0.029341</td>\n",
              "      <td>0.094924</td>\n",
              "    </tr>\n",
              "    <tr>\n",
              "      <th>table</th>\n",
              "      <td>0.181618</td>\n",
              "      <td>-0.295779</td>\n",
              "      <td>1.000000</td>\n",
              "      <td>0.127134</td>\n",
              "      <td>0.195344</td>\n",
              "      <td>0.183760</td>\n",
              "      <td>0.150929</td>\n",
              "    </tr>\n",
              "    <tr>\n",
              "      <th>price</th>\n",
              "      <td>0.921591</td>\n",
              "      <td>-0.010647</td>\n",
              "      <td>0.127134</td>\n",
              "      <td>1.000000</td>\n",
              "      <td>0.884435</td>\n",
              "      <td>0.865421</td>\n",
              "      <td>0.861249</td>\n",
              "    </tr>\n",
              "    <tr>\n",
              "      <th>x</th>\n",
              "      <td>0.975094</td>\n",
              "      <td>-0.025289</td>\n",
              "      <td>0.195344</td>\n",
              "      <td>0.884435</td>\n",
              "      <td>1.000000</td>\n",
              "      <td>0.974701</td>\n",
              "      <td>0.970772</td>\n",
              "    </tr>\n",
              "    <tr>\n",
              "      <th>y</th>\n",
              "      <td>0.951722</td>\n",
              "      <td>-0.029341</td>\n",
              "      <td>0.183760</td>\n",
              "      <td>0.865421</td>\n",
              "      <td>0.974701</td>\n",
              "      <td>1.000000</td>\n",
              "      <td>0.952006</td>\n",
              "    </tr>\n",
              "    <tr>\n",
              "      <th>z</th>\n",
              "      <td>0.953387</td>\n",
              "      <td>0.094924</td>\n",
              "      <td>0.150929</td>\n",
              "      <td>0.861249</td>\n",
              "      <td>0.970772</td>\n",
              "      <td>0.952006</td>\n",
              "      <td>1.000000</td>\n",
              "    </tr>\n",
              "  </tbody>\n",
              "</table>\n",
              "</div>\n",
              "    <div class=\"colab-df-buttons\">\n",
              "\n",
              "  <div class=\"colab-df-container\">\n",
              "    <button class=\"colab-df-convert\" onclick=\"convertToInteractive('df-a2b99950-23e2-4abd-b671-c3cbd3ed733b')\"\n",
              "            title=\"Convert this dataframe to an interactive table.\"\n",
              "            style=\"display:none;\">\n",
              "\n",
              "  <svg xmlns=\"http://www.w3.org/2000/svg\" height=\"24px\" viewBox=\"0 -960 960 960\">\n",
              "    <path d=\"M120-120v-720h720v720H120Zm60-500h600v-160H180v160Zm220 220h160v-160H400v160Zm0 220h160v-160H400v160ZM180-400h160v-160H180v160Zm440 0h160v-160H620v160ZM180-180h160v-160H180v160Zm440 0h160v-160H620v160Z\"/>\n",
              "  </svg>\n",
              "    </button>\n",
              "\n",
              "  <style>\n",
              "    .colab-df-container {\n",
              "      display:flex;\n",
              "      gap: 12px;\n",
              "    }\n",
              "\n",
              "    .colab-df-convert {\n",
              "      background-color: #E8F0FE;\n",
              "      border: none;\n",
              "      border-radius: 50%;\n",
              "      cursor: pointer;\n",
              "      display: none;\n",
              "      fill: #1967D2;\n",
              "      height: 32px;\n",
              "      padding: 0 0 0 0;\n",
              "      width: 32px;\n",
              "    }\n",
              "\n",
              "    .colab-df-convert:hover {\n",
              "      background-color: #E2EBFA;\n",
              "      box-shadow: 0px 1px 2px rgba(60, 64, 67, 0.3), 0px 1px 3px 1px rgba(60, 64, 67, 0.15);\n",
              "      fill: #174EA6;\n",
              "    }\n",
              "\n",
              "    .colab-df-buttons div {\n",
              "      margin-bottom: 4px;\n",
              "    }\n",
              "\n",
              "    [theme=dark] .colab-df-convert {\n",
              "      background-color: #3B4455;\n",
              "      fill: #D2E3FC;\n",
              "    }\n",
              "\n",
              "    [theme=dark] .colab-df-convert:hover {\n",
              "      background-color: #434B5C;\n",
              "      box-shadow: 0px 1px 3px 1px rgba(0, 0, 0, 0.15);\n",
              "      filter: drop-shadow(0px 1px 2px rgba(0, 0, 0, 0.3));\n",
              "      fill: #FFFFFF;\n",
              "    }\n",
              "  </style>\n",
              "\n",
              "    <script>\n",
              "      const buttonEl =\n",
              "        document.querySelector('#df-a2b99950-23e2-4abd-b671-c3cbd3ed733b button.colab-df-convert');\n",
              "      buttonEl.style.display =\n",
              "        google.colab.kernel.accessAllowed ? 'block' : 'none';\n",
              "\n",
              "      async function convertToInteractive(key) {\n",
              "        const element = document.querySelector('#df-a2b99950-23e2-4abd-b671-c3cbd3ed733b');\n",
              "        const dataTable =\n",
              "          await google.colab.kernel.invokeFunction('convertToInteractive',\n",
              "                                                    [key], {});\n",
              "        if (!dataTable) return;\n",
              "\n",
              "        const docLinkHtml = 'Like what you see? Visit the ' +\n",
              "          '<a target=\"_blank\" href=https://colab.research.google.com/notebooks/data_table.ipynb>data table notebook</a>'\n",
              "          + ' to learn more about interactive tables.';\n",
              "        element.innerHTML = '';\n",
              "        dataTable['output_type'] = 'display_data';\n",
              "        await google.colab.output.renderOutput(dataTable, element);\n",
              "        const docLink = document.createElement('div');\n",
              "        docLink.innerHTML = docLinkHtml;\n",
              "        element.appendChild(docLink);\n",
              "      }\n",
              "    </script>\n",
              "  </div>\n",
              "\n",
              "\n",
              "<div id=\"df-5956e399-0408-44e4-afa3-5a576f7f97f7\">\n",
              "  <button class=\"colab-df-quickchart\" onclick=\"quickchart('df-5956e399-0408-44e4-afa3-5a576f7f97f7')\"\n",
              "            title=\"Suggest charts\"\n",
              "            style=\"display:none;\">\n",
              "\n",
              "<svg xmlns=\"http://www.w3.org/2000/svg\" height=\"24px\"viewBox=\"0 0 24 24\"\n",
              "     width=\"24px\">\n",
              "    <g>\n",
              "        <path d=\"M19 3H5c-1.1 0-2 .9-2 2v14c0 1.1.9 2 2 2h14c1.1 0 2-.9 2-2V5c0-1.1-.9-2-2-2zM9 17H7v-7h2v7zm4 0h-2V7h2v10zm4 0h-2v-4h2v4z\"/>\n",
              "    </g>\n",
              "</svg>\n",
              "  </button>\n",
              "\n",
              "<style>\n",
              "  .colab-df-quickchart {\n",
              "      --bg-color: #E8F0FE;\n",
              "      --fill-color: #1967D2;\n",
              "      --hover-bg-color: #E2EBFA;\n",
              "      --hover-fill-color: #174EA6;\n",
              "      --disabled-fill-color: #AAA;\n",
              "      --disabled-bg-color: #DDD;\n",
              "  }\n",
              "\n",
              "  [theme=dark] .colab-df-quickchart {\n",
              "      --bg-color: #3B4455;\n",
              "      --fill-color: #D2E3FC;\n",
              "      --hover-bg-color: #434B5C;\n",
              "      --hover-fill-color: #FFFFFF;\n",
              "      --disabled-bg-color: #3B4455;\n",
              "      --disabled-fill-color: #666;\n",
              "  }\n",
              "\n",
              "  .colab-df-quickchart {\n",
              "    background-color: var(--bg-color);\n",
              "    border: none;\n",
              "    border-radius: 50%;\n",
              "    cursor: pointer;\n",
              "    display: none;\n",
              "    fill: var(--fill-color);\n",
              "    height: 32px;\n",
              "    padding: 0;\n",
              "    width: 32px;\n",
              "  }\n",
              "\n",
              "  .colab-df-quickchart:hover {\n",
              "    background-color: var(--hover-bg-color);\n",
              "    box-shadow: 0 1px 2px rgba(60, 64, 67, 0.3), 0 1px 3px 1px rgba(60, 64, 67, 0.15);\n",
              "    fill: var(--button-hover-fill-color);\n",
              "  }\n",
              "\n",
              "  .colab-df-quickchart-complete:disabled,\n",
              "  .colab-df-quickchart-complete:disabled:hover {\n",
              "    background-color: var(--disabled-bg-color);\n",
              "    fill: var(--disabled-fill-color);\n",
              "    box-shadow: none;\n",
              "  }\n",
              "\n",
              "  .colab-df-spinner {\n",
              "    border: 2px solid var(--fill-color);\n",
              "    border-color: transparent;\n",
              "    border-bottom-color: var(--fill-color);\n",
              "    animation:\n",
              "      spin 1s steps(1) infinite;\n",
              "  }\n",
              "\n",
              "  @keyframes spin {\n",
              "    0% {\n",
              "      border-color: transparent;\n",
              "      border-bottom-color: var(--fill-color);\n",
              "      border-left-color: var(--fill-color);\n",
              "    }\n",
              "    20% {\n",
              "      border-color: transparent;\n",
              "      border-left-color: var(--fill-color);\n",
              "      border-top-color: var(--fill-color);\n",
              "    }\n",
              "    30% {\n",
              "      border-color: transparent;\n",
              "      border-left-color: var(--fill-color);\n",
              "      border-top-color: var(--fill-color);\n",
              "      border-right-color: var(--fill-color);\n",
              "    }\n",
              "    40% {\n",
              "      border-color: transparent;\n",
              "      border-right-color: var(--fill-color);\n",
              "      border-top-color: var(--fill-color);\n",
              "    }\n",
              "    60% {\n",
              "      border-color: transparent;\n",
              "      border-right-color: var(--fill-color);\n",
              "    }\n",
              "    80% {\n",
              "      border-color: transparent;\n",
              "      border-right-color: var(--fill-color);\n",
              "      border-bottom-color: var(--fill-color);\n",
              "    }\n",
              "    90% {\n",
              "      border-color: transparent;\n",
              "      border-bottom-color: var(--fill-color);\n",
              "    }\n",
              "  }\n",
              "</style>\n",
              "\n",
              "  <script>\n",
              "    async function quickchart(key) {\n",
              "      const quickchartButtonEl =\n",
              "        document.querySelector('#' + key + ' button');\n",
              "      quickchartButtonEl.disabled = true;  // To prevent multiple clicks.\n",
              "      quickchartButtonEl.classList.add('colab-df-spinner');\n",
              "      try {\n",
              "        const charts = await google.colab.kernel.invokeFunction(\n",
              "            'suggestCharts', [key], {});\n",
              "      } catch (error) {\n",
              "        console.error('Error during call to suggestCharts:', error);\n",
              "      }\n",
              "      quickchartButtonEl.classList.remove('colab-df-spinner');\n",
              "      quickchartButtonEl.classList.add('colab-df-quickchart-complete');\n",
              "    }\n",
              "    (() => {\n",
              "      let quickchartButtonEl =\n",
              "        document.querySelector('#df-5956e399-0408-44e4-afa3-5a576f7f97f7 button');\n",
              "      quickchartButtonEl.style.display =\n",
              "        google.colab.kernel.accessAllowed ? 'block' : 'none';\n",
              "    })();\n",
              "  </script>\n",
              "</div>\n",
              "    </div>\n",
              "  </div>\n"
            ]
          },
          "metadata": {},
          "execution_count": 10
        }
      ],
      "source": [
        "data.corr()"
      ]
    },
    {
      "cell_type": "markdown",
      "metadata": {
        "id": "-Y1RDbBSSrTA"
      },
      "source": [
        "### Задание 4"
      ]
    },
    {
      "cell_type": "markdown",
      "source": [
        "Так как линейная модель складывает значения признаков с некоторыми весами, нам нужно аккуратно обработать категориальные признаки. Закодируйте категориальные переменные при помощи OneHot-кодирования ([`pd.get_dummies`](https://pandas.pydata.org/pandas-docs/stable/reference/api/pandas.get_dummies.html)). Не забудьте поставить значение параметра `drop_first` равным `True`.\n",
        "\n",
        "Сколько получилось столбцов в таблице `data`?"
      ],
      "metadata": {
        "id": "fSyD5okwd5fq"
      }
    },
    {
      "cell_type": "code",
      "execution_count": 13,
      "metadata": {
        "id": "VYKOY6tuSrTB"
      },
      "outputs": [],
      "source": [
        "data = pd.get_dummies(data, columns=['cut', 'color', 'clarity'], drop_first= True)"
      ]
    },
    {
      "cell_type": "code",
      "source": [
        "data.shape"
      ],
      "metadata": {
        "id": "Uyfp88VfCwIX",
        "outputId": "2a5e49d4-e8ac-419b-daeb-1cb88794fb59",
        "colab": {
          "base_uri": "https://localhost:8080/"
        }
      },
      "execution_count": 14,
      "outputs": [
        {
          "output_type": "execute_result",
          "data": {
            "text/plain": [
              "(53940, 24)"
            ]
          },
          "metadata": {},
          "execution_count": 14
        }
      ]
    },
    {
      "cell_type": "markdown",
      "metadata": {
        "id": "086OYMdXSrTB"
      },
      "source": [
        "### Задание 5"
      ]
    },
    {
      "cell_type": "markdown",
      "source": [
        "Создайте матрицу `X`, содержащую все признаки, и не содержащую целевую переменную `price`. Также создайте вектор `y`, содержащий целевую переменную `price`."
      ],
      "metadata": {
        "id": "nv-XrWeAV_zh"
      }
    },
    {
      "cell_type": "code",
      "source": [
        "X = data.drop('price', axis=1)\n",
        "y = data['price']"
      ],
      "metadata": {
        "id": "UpGgtH_EWCON"
      },
      "execution_count": 15,
      "outputs": []
    },
    {
      "cell_type": "markdown",
      "source": [
        "Разделите выборку на тренировочную и тестовую. Долю тестовой выборки укажите равной `0.3`.\n",
        "\n",
        "При разбиении укажите `random_state = 42`."
      ],
      "metadata": {
        "id": "Qky2En52eDPj"
      }
    },
    {
      "cell_type": "code",
      "execution_count": 16,
      "metadata": {
        "id": "gMwY5R_aSrTB"
      },
      "outputs": [],
      "source": [
        "from sklearn.model_selection import train_test_split\n",
        "\n",
        "Xtrain, Xtest, ytrain, ytest = train_test_split(X, y, random_state=42, test_size=0.3)"
      ]
    },
    {
      "cell_type": "markdown",
      "metadata": {
        "id": "OEEFDQLSSrTB"
      },
      "source": [
        "### Задание 6"
      ]
    },
    {
      "cell_type": "markdown",
      "source": [
        "Зачастую при использовании линейных моделей вещественные признаки масштабируются.  В этой задаче масштабируйте вещественные признаки тренировочной и тестовой выборок при помощи модуля `StandardScaler`.\n",
        "\n",
        "*  Обучите (`fit`) scaler на тренировочных данных\n",
        "*  Преобразуйте (`transform`) и трейн, и тест\n",
        "\n",
        "После применения масштабирования матрица перестает быть объектом `pandas.DataFrame` - решите эту проблему."
      ],
      "metadata": {
        "id": "pfSlapoAeIIl"
      }
    },
    {
      "cell_type": "code",
      "execution_count": 17,
      "metadata": {
        "id": "9aOjwTvmSrTB"
      },
      "outputs": [],
      "source": [
        "from sklearn.preprocessing import StandardScaler\n",
        "\n",
        "scaler = StandardScaler()\n",
        "Xtrain_scaled = scaler.fit_transform(Xtrain)\n",
        "Xtest_scaled = scaler.transform(Xtest)"
      ]
    },
    {
      "cell_type": "markdown",
      "metadata": {
        "id": "zIwgPtL2SrTB"
      },
      "source": [
        "### Задание 7"
      ]
    },
    {
      "cell_type": "markdown",
      "source": [
        "Обучите линейную регрессию на тренировочной выборке. Выведите *r2-score* на тренировочной и тестовой выборках."
      ],
      "metadata": {
        "id": "LIZ8MooheRPK"
      }
    },
    {
      "cell_type": "code",
      "execution_count": 21,
      "metadata": {
        "id": "OCMNtmamSrTB",
        "outputId": "c6424fb9-3956-4e60-d985-7ef2f623a7f6",
        "colab": {
          "base_uri": "https://localhost:8080/"
        }
      },
      "outputs": [
        {
          "output_type": "execute_result",
          "data": {
            "text/plain": [
              "0.9"
            ]
          },
          "metadata": {},
          "execution_count": 21
        }
      ],
      "source": [
        "from sklearn.linear_model import LinearRegression\n",
        "from sklearn.metrics import r2_score\n",
        "\n",
        "model = LinearRegression()\n",
        "model.fit(Xtrain_scaled, ytrain)\n",
        "\n",
        "preds = model.predict(Xtest_scaled)\n",
        "\n",
        "round(r2_score(ytest, preds), 1)"
      ]
    },
    {
      "cell_type": "markdown",
      "metadata": {
        "id": "C0wLt2-kSrTC"
      },
      "source": [
        "### Задание 8"
      ]
    },
    {
      "cell_type": "markdown",
      "source": [
        "Выведите на экран веса, которые линейная регрессия присвоила признакам.\n",
        "\n",
        "Какой признак имеет наибольший отрицательный вес? (наибольший по модулю среди всех отрицательных весов)"
      ],
      "metadata": {
        "id": "FQ54nIwteZR9"
      }
    },
    {
      "cell_type": "code",
      "execution_count": 26,
      "metadata": {
        "id": "CMAjqVIYSrTC",
        "outputId": "08416ca1-331b-4f97-84d2-8b6957cf8e4b",
        "colab": {
          "base_uri": "https://localhost:8080/",
          "height": 771
        }
      },
      "outputs": [
        {
          "output_type": "execute_result",
          "data": {
            "text/plain": [
              "          Feature       Weight\n",
              "3               x -1100.418850\n",
              "15        color_J  -529.449216\n",
              "14        color_I  -442.783567\n",
              "13        color_H  -362.002300\n",
              "12        color_G  -202.863564\n",
              "11        color_F  -104.560993\n",
              "1           depth   -90.173817\n",
              "10        color_E   -83.640021\n",
              "2           table   -60.332280\n",
              "5               z   -34.258945\n",
              "4               y    -6.458917\n",
              "6        cut_Good   170.602933\n",
              "9   cut_Very Good   310.654256\n",
              "8     cut_Premium   339.239204\n",
              "7       cut_Ideal   414.369515\n",
              "16     clarity_IF   975.933641\n",
              "18    clarity_SI2  1042.921215\n",
              "21   clarity_VVS1  1284.809475\n",
              "22   clarity_VVS2  1461.034194\n",
              "17    clarity_SI1  1611.571681\n",
              "19    clarity_VS1  1670.318496\n",
              "20    clarity_VS2  1817.664208\n",
              "0           carat  5338.615671"
            ],
            "text/html": [
              "\n",
              "  <div id=\"df-9c2c32ba-e3f0-480c-b0e1-853f42ec3252\" class=\"colab-df-container\">\n",
              "    <div>\n",
              "<style scoped>\n",
              "    .dataframe tbody tr th:only-of-type {\n",
              "        vertical-align: middle;\n",
              "    }\n",
              "\n",
              "    .dataframe tbody tr th {\n",
              "        vertical-align: top;\n",
              "    }\n",
              "\n",
              "    .dataframe thead th {\n",
              "        text-align: right;\n",
              "    }\n",
              "</style>\n",
              "<table border=\"1\" class=\"dataframe\">\n",
              "  <thead>\n",
              "    <tr style=\"text-align: right;\">\n",
              "      <th></th>\n",
              "      <th>Feature</th>\n",
              "      <th>Weight</th>\n",
              "    </tr>\n",
              "  </thead>\n",
              "  <tbody>\n",
              "    <tr>\n",
              "      <th>3</th>\n",
              "      <td>x</td>\n",
              "      <td>-1100.418850</td>\n",
              "    </tr>\n",
              "    <tr>\n",
              "      <th>15</th>\n",
              "      <td>color_J</td>\n",
              "      <td>-529.449216</td>\n",
              "    </tr>\n",
              "    <tr>\n",
              "      <th>14</th>\n",
              "      <td>color_I</td>\n",
              "      <td>-442.783567</td>\n",
              "    </tr>\n",
              "    <tr>\n",
              "      <th>13</th>\n",
              "      <td>color_H</td>\n",
              "      <td>-362.002300</td>\n",
              "    </tr>\n",
              "    <tr>\n",
              "      <th>12</th>\n",
              "      <td>color_G</td>\n",
              "      <td>-202.863564</td>\n",
              "    </tr>\n",
              "    <tr>\n",
              "      <th>11</th>\n",
              "      <td>color_F</td>\n",
              "      <td>-104.560993</td>\n",
              "    </tr>\n",
              "    <tr>\n",
              "      <th>1</th>\n",
              "      <td>depth</td>\n",
              "      <td>-90.173817</td>\n",
              "    </tr>\n",
              "    <tr>\n",
              "      <th>10</th>\n",
              "      <td>color_E</td>\n",
              "      <td>-83.640021</td>\n",
              "    </tr>\n",
              "    <tr>\n",
              "      <th>2</th>\n",
              "      <td>table</td>\n",
              "      <td>-60.332280</td>\n",
              "    </tr>\n",
              "    <tr>\n",
              "      <th>5</th>\n",
              "      <td>z</td>\n",
              "      <td>-34.258945</td>\n",
              "    </tr>\n",
              "    <tr>\n",
              "      <th>4</th>\n",
              "      <td>y</td>\n",
              "      <td>-6.458917</td>\n",
              "    </tr>\n",
              "    <tr>\n",
              "      <th>6</th>\n",
              "      <td>cut_Good</td>\n",
              "      <td>170.602933</td>\n",
              "    </tr>\n",
              "    <tr>\n",
              "      <th>9</th>\n",
              "      <td>cut_Very Good</td>\n",
              "      <td>310.654256</td>\n",
              "    </tr>\n",
              "    <tr>\n",
              "      <th>8</th>\n",
              "      <td>cut_Premium</td>\n",
              "      <td>339.239204</td>\n",
              "    </tr>\n",
              "    <tr>\n",
              "      <th>7</th>\n",
              "      <td>cut_Ideal</td>\n",
              "      <td>414.369515</td>\n",
              "    </tr>\n",
              "    <tr>\n",
              "      <th>16</th>\n",
              "      <td>clarity_IF</td>\n",
              "      <td>975.933641</td>\n",
              "    </tr>\n",
              "    <tr>\n",
              "      <th>18</th>\n",
              "      <td>clarity_SI2</td>\n",
              "      <td>1042.921215</td>\n",
              "    </tr>\n",
              "    <tr>\n",
              "      <th>21</th>\n",
              "      <td>clarity_VVS1</td>\n",
              "      <td>1284.809475</td>\n",
              "    </tr>\n",
              "    <tr>\n",
              "      <th>22</th>\n",
              "      <td>clarity_VVS2</td>\n",
              "      <td>1461.034194</td>\n",
              "    </tr>\n",
              "    <tr>\n",
              "      <th>17</th>\n",
              "      <td>clarity_SI1</td>\n",
              "      <td>1611.571681</td>\n",
              "    </tr>\n",
              "    <tr>\n",
              "      <th>19</th>\n",
              "      <td>clarity_VS1</td>\n",
              "      <td>1670.318496</td>\n",
              "    </tr>\n",
              "    <tr>\n",
              "      <th>20</th>\n",
              "      <td>clarity_VS2</td>\n",
              "      <td>1817.664208</td>\n",
              "    </tr>\n",
              "    <tr>\n",
              "      <th>0</th>\n",
              "      <td>carat</td>\n",
              "      <td>5338.615671</td>\n",
              "    </tr>\n",
              "  </tbody>\n",
              "</table>\n",
              "</div>\n",
              "    <div class=\"colab-df-buttons\">\n",
              "\n",
              "  <div class=\"colab-df-container\">\n",
              "    <button class=\"colab-df-convert\" onclick=\"convertToInteractive('df-9c2c32ba-e3f0-480c-b0e1-853f42ec3252')\"\n",
              "            title=\"Convert this dataframe to an interactive table.\"\n",
              "            style=\"display:none;\">\n",
              "\n",
              "  <svg xmlns=\"http://www.w3.org/2000/svg\" height=\"24px\" viewBox=\"0 -960 960 960\">\n",
              "    <path d=\"M120-120v-720h720v720H120Zm60-500h600v-160H180v160Zm220 220h160v-160H400v160Zm0 220h160v-160H400v160ZM180-400h160v-160H180v160Zm440 0h160v-160H620v160ZM180-180h160v-160H180v160Zm440 0h160v-160H620v160Z\"/>\n",
              "  </svg>\n",
              "    </button>\n",
              "\n",
              "  <style>\n",
              "    .colab-df-container {\n",
              "      display:flex;\n",
              "      gap: 12px;\n",
              "    }\n",
              "\n",
              "    .colab-df-convert {\n",
              "      background-color: #E8F0FE;\n",
              "      border: none;\n",
              "      border-radius: 50%;\n",
              "      cursor: pointer;\n",
              "      display: none;\n",
              "      fill: #1967D2;\n",
              "      height: 32px;\n",
              "      padding: 0 0 0 0;\n",
              "      width: 32px;\n",
              "    }\n",
              "\n",
              "    .colab-df-convert:hover {\n",
              "      background-color: #E2EBFA;\n",
              "      box-shadow: 0px 1px 2px rgba(60, 64, 67, 0.3), 0px 1px 3px 1px rgba(60, 64, 67, 0.15);\n",
              "      fill: #174EA6;\n",
              "    }\n",
              "\n",
              "    .colab-df-buttons div {\n",
              "      margin-bottom: 4px;\n",
              "    }\n",
              "\n",
              "    [theme=dark] .colab-df-convert {\n",
              "      background-color: #3B4455;\n",
              "      fill: #D2E3FC;\n",
              "    }\n",
              "\n",
              "    [theme=dark] .colab-df-convert:hover {\n",
              "      background-color: #434B5C;\n",
              "      box-shadow: 0px 1px 3px 1px rgba(0, 0, 0, 0.15);\n",
              "      filter: drop-shadow(0px 1px 2px rgba(0, 0, 0, 0.3));\n",
              "      fill: #FFFFFF;\n",
              "    }\n",
              "  </style>\n",
              "\n",
              "    <script>\n",
              "      const buttonEl =\n",
              "        document.querySelector('#df-9c2c32ba-e3f0-480c-b0e1-853f42ec3252 button.colab-df-convert');\n",
              "      buttonEl.style.display =\n",
              "        google.colab.kernel.accessAllowed ? 'block' : 'none';\n",
              "\n",
              "      async function convertToInteractive(key) {\n",
              "        const element = document.querySelector('#df-9c2c32ba-e3f0-480c-b0e1-853f42ec3252');\n",
              "        const dataTable =\n",
              "          await google.colab.kernel.invokeFunction('convertToInteractive',\n",
              "                                                    [key], {});\n",
              "        if (!dataTable) return;\n",
              "\n",
              "        const docLinkHtml = 'Like what you see? Visit the ' +\n",
              "          '<a target=\"_blank\" href=https://colab.research.google.com/notebooks/data_table.ipynb>data table notebook</a>'\n",
              "          + ' to learn more about interactive tables.';\n",
              "        element.innerHTML = '';\n",
              "        dataTable['output_type'] = 'display_data';\n",
              "        await google.colab.output.renderOutput(dataTable, element);\n",
              "        const docLink = document.createElement('div');\n",
              "        docLink.innerHTML = docLinkHtml;\n",
              "        element.appendChild(docLink);\n",
              "      }\n",
              "    </script>\n",
              "  </div>\n",
              "\n",
              "\n",
              "<div id=\"df-2e2d5bd7-0c93-4324-9c46-d75bdfe26fd9\">\n",
              "  <button class=\"colab-df-quickchart\" onclick=\"quickchart('df-2e2d5bd7-0c93-4324-9c46-d75bdfe26fd9')\"\n",
              "            title=\"Suggest charts\"\n",
              "            style=\"display:none;\">\n",
              "\n",
              "<svg xmlns=\"http://www.w3.org/2000/svg\" height=\"24px\"viewBox=\"0 0 24 24\"\n",
              "     width=\"24px\">\n",
              "    <g>\n",
              "        <path d=\"M19 3H5c-1.1 0-2 .9-2 2v14c0 1.1.9 2 2 2h14c1.1 0 2-.9 2-2V5c0-1.1-.9-2-2-2zM9 17H7v-7h2v7zm4 0h-2V7h2v10zm4 0h-2v-4h2v4z\"/>\n",
              "    </g>\n",
              "</svg>\n",
              "  </button>\n",
              "\n",
              "<style>\n",
              "  .colab-df-quickchart {\n",
              "      --bg-color: #E8F0FE;\n",
              "      --fill-color: #1967D2;\n",
              "      --hover-bg-color: #E2EBFA;\n",
              "      --hover-fill-color: #174EA6;\n",
              "      --disabled-fill-color: #AAA;\n",
              "      --disabled-bg-color: #DDD;\n",
              "  }\n",
              "\n",
              "  [theme=dark] .colab-df-quickchart {\n",
              "      --bg-color: #3B4455;\n",
              "      --fill-color: #D2E3FC;\n",
              "      --hover-bg-color: #434B5C;\n",
              "      --hover-fill-color: #FFFFFF;\n",
              "      --disabled-bg-color: #3B4455;\n",
              "      --disabled-fill-color: #666;\n",
              "  }\n",
              "\n",
              "  .colab-df-quickchart {\n",
              "    background-color: var(--bg-color);\n",
              "    border: none;\n",
              "    border-radius: 50%;\n",
              "    cursor: pointer;\n",
              "    display: none;\n",
              "    fill: var(--fill-color);\n",
              "    height: 32px;\n",
              "    padding: 0;\n",
              "    width: 32px;\n",
              "  }\n",
              "\n",
              "  .colab-df-quickchart:hover {\n",
              "    background-color: var(--hover-bg-color);\n",
              "    box-shadow: 0 1px 2px rgba(60, 64, 67, 0.3), 0 1px 3px 1px rgba(60, 64, 67, 0.15);\n",
              "    fill: var(--button-hover-fill-color);\n",
              "  }\n",
              "\n",
              "  .colab-df-quickchart-complete:disabled,\n",
              "  .colab-df-quickchart-complete:disabled:hover {\n",
              "    background-color: var(--disabled-bg-color);\n",
              "    fill: var(--disabled-fill-color);\n",
              "    box-shadow: none;\n",
              "  }\n",
              "\n",
              "  .colab-df-spinner {\n",
              "    border: 2px solid var(--fill-color);\n",
              "    border-color: transparent;\n",
              "    border-bottom-color: var(--fill-color);\n",
              "    animation:\n",
              "      spin 1s steps(1) infinite;\n",
              "  }\n",
              "\n",
              "  @keyframes spin {\n",
              "    0% {\n",
              "      border-color: transparent;\n",
              "      border-bottom-color: var(--fill-color);\n",
              "      border-left-color: var(--fill-color);\n",
              "    }\n",
              "    20% {\n",
              "      border-color: transparent;\n",
              "      border-left-color: var(--fill-color);\n",
              "      border-top-color: var(--fill-color);\n",
              "    }\n",
              "    30% {\n",
              "      border-color: transparent;\n",
              "      border-left-color: var(--fill-color);\n",
              "      border-top-color: var(--fill-color);\n",
              "      border-right-color: var(--fill-color);\n",
              "    }\n",
              "    40% {\n",
              "      border-color: transparent;\n",
              "      border-right-color: var(--fill-color);\n",
              "      border-top-color: var(--fill-color);\n",
              "    }\n",
              "    60% {\n",
              "      border-color: transparent;\n",
              "      border-right-color: var(--fill-color);\n",
              "    }\n",
              "    80% {\n",
              "      border-color: transparent;\n",
              "      border-right-color: var(--fill-color);\n",
              "      border-bottom-color: var(--fill-color);\n",
              "    }\n",
              "    90% {\n",
              "      border-color: transparent;\n",
              "      border-bottom-color: var(--fill-color);\n",
              "    }\n",
              "  }\n",
              "</style>\n",
              "\n",
              "  <script>\n",
              "    async function quickchart(key) {\n",
              "      const quickchartButtonEl =\n",
              "        document.querySelector('#' + key + ' button');\n",
              "      quickchartButtonEl.disabled = true;  // To prevent multiple clicks.\n",
              "      quickchartButtonEl.classList.add('colab-df-spinner');\n",
              "      try {\n",
              "        const charts = await google.colab.kernel.invokeFunction(\n",
              "            'suggestCharts', [key], {});\n",
              "      } catch (error) {\n",
              "        console.error('Error during call to suggestCharts:', error);\n",
              "      }\n",
              "      quickchartButtonEl.classList.remove('colab-df-spinner');\n",
              "      quickchartButtonEl.classList.add('colab-df-quickchart-complete');\n",
              "    }\n",
              "    (() => {\n",
              "      let quickchartButtonEl =\n",
              "        document.querySelector('#df-2e2d5bd7-0c93-4324-9c46-d75bdfe26fd9 button');\n",
              "      quickchartButtonEl.style.display =\n",
              "        google.colab.kernel.accessAllowed ? 'block' : 'none';\n",
              "    })();\n",
              "  </script>\n",
              "</div>\n",
              "    </div>\n",
              "  </div>\n"
            ]
          },
          "metadata": {},
          "execution_count": 26
        }
      ],
      "source": [
        "features = Xtrain.columns\n",
        "weights = model.coef_\n",
        "feature_weights = pd.DataFrame({'Feature': features, 'Weight': weights})\n",
        "feature_weights.sort_values(by='Weight')"
      ]
    },
    {
      "cell_type": "code",
      "source": [
        "plt.figure(figsize=(30, 5))\n",
        "\n",
        "plt.bar(x=list(X.columns.values), height=model.coef_)\n",
        "\n",
        "plt.show()"
      ],
      "metadata": {
        "id": "qGIEF_uSGIx0",
        "outputId": "99ff6634-711e-4516-9a01-b0a7ac943fb3",
        "colab": {
          "base_uri": "https://localhost:8080/",
          "height": 328
        }
      },
      "execution_count": 27,
      "outputs": [
        {
          "output_type": "display_data",
          "data": {
            "text/plain": [
              "<Figure size 3000x500 with 1 Axes>"
            ],
            "image/png": "[encoded data removed]"
          },
          "metadata": {}
        }
      ]
    },
    {
      "cell_type": "markdown",
      "metadata": {
        "id": "ReYl218rSrTC"
      },
      "source": [
        "## Попытка улучшить качество модели\n",
        "\n",
        "Данная часть является творческой, и задания в ней немного сложнее, чем предыдущие.\n",
        "\n",
        "Следующие вопросы не проверяются тестами."
      ]
    },
    {
      "cell_type": "markdown",
      "metadata": {
        "id": "VqkOA8yxSrTC"
      },
      "source": [
        "### Задание 9"
      ]
    },
    {
      "cell_type": "markdown",
      "source": [
        "Как можно заметить из анализа корреляционной матрицы в задании 3, между некоторыми признаками имеется сильная корреляция, что может быть индикатором проблемы *мультиколлинеарности*. Различия в порядке коэффициентов, выявленные в предыдущей задаче, также свидетельствуют об этом. Для решения этой проблемы можно либо исключить некоторые признаки из модели (например, если признак линейно зависим с какими-то другими, его можно исключить из модели, т.е. удалить из матрицы объект-признак и заново обучить модель).\n",
        "\n",
        "Удалите из матриц `Xtrain` и `Xtest` признак, который наиболее сильно коррелирует с остальными. Заново обучите модель и оцените её качество. Улучшилось ли качество модели?\n",
        "\n",
        "Попробуйте удалить какой-то другой признак (можете попробовать несколько вариантов). Помогло ли это улучшить качество модели?"
      ],
      "metadata": {
        "id": "DWx5nVCxezGv"
      }
    },
    {
      "cell_type": "code",
      "execution_count": null,
      "metadata": {
        "id": "qsbtY9ipSrTC"
      },
      "outputs": [],
      "source": [
        "# your code here"
      ]
    },
    {
      "cell_type": "markdown",
      "metadata": {
        "id": "g-hmiglmSrTC"
      },
      "source": [
        "### Задание 10"
      ]
    },
    {
      "cell_type": "markdown",
      "source": [
        "Иногда генерация новых признаков помогает модели лучше находить взаимосвязи между целевой переменной и признаками. Попробуйте придумать новые признаки и добавить их в модель.  \n",
        "\n",
        "Помогло ли это улучшить качество модели?"
      ],
      "metadata": {
        "id": "Vw7MsbEze485"
      }
    },
    {
      "cell_type": "code",
      "execution_count": null,
      "metadata": {
        "id": "ILGStgEPSrTC"
      },
      "outputs": [],
      "source": [
        "# your code here"
      ]
    },
    {
      "cell_type": "markdown",
      "source": [
        "![image.png](data:image/png;base64,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)"
      ],
      "metadata": {
        "id": "okhEiqXgIeim"
      }
    },
    {
      "cell_type": "code",
      "source": [],
      "metadata": {
        "id": "plkdt3ZiIfsY"
      },
      "execution_count": null,
      "outputs": []
    }
  ],
  "metadata": {
    "colab": {
      "provenance": [],
      "include_colab_link": true
    },
    "kernelspec": {
      "display_name": "Python 3",
      "language": "python",
      "name": "python3"
    },
    "language_info": {
      "codemirror_mode": {
        "name": "ipython",
        "version": 3
      },
      "file_extension": ".py",
      "mimetype": "text/x-python",
      "name": "python",
      "nbconvert_exporter": "python",
      "pygments_lexer": "ipython3",
      "version": "3.7.6"
    }
  },
  "nbformat": 4,
  "nbformat_minor": 0
}